{
 "cells": [
  {
   "cell_type": "code",
   "execution_count": 1,
   "metadata": {},
   "outputs": [],
   "source": [
    "import requests\n",
    "import time\n",
    "import json\n",
    "import datetime\n",
    "import os"
   ]
  },
  {
   "cell_type": "code",
   "execution_count": 39,
   "metadata": {},
   "outputs": [],
   "source": [
    "## Base url : https://api.sr.se/api/documentation/v2/index.html\n",
    "base_url = 'https://api.sr.se/api/v2'\n",
    "url_all_channels = base_url + '/channels?format=json'\n",
    "url_songs_on_given_day = base_url + '/playlists/getplaylistbychannelid?id={c_id}&startdatetime={date}&size=1000&format=json'"
   ]
  },
  {
   "cell_type": "code",
   "execution_count": 3,
   "metadata": {},
   "outputs": [],
   "source": [
    "def check_page( payload ):\n",
    "    if \"pagination\" in payload.json().keys(): \n",
    "        if \"nextpage\" in  payload.json()[\"pagination\"]:\n",
    "            return payload.json()[\"pagination\"][\"nextpage\"]\n",
    "    else:\n",
    "        return None "
   ]
  },
  {
   "cell_type": "code",
   "execution_count": 4,
   "metadata": {},
   "outputs": [],
   "source": [
    "def get_all_channels(curent_url=url_all_channels ):\n",
    "    a = requests.get( curent_url )\n",
    "    data = a.json()[\"channels\"]\n",
    "    time.sleep( 0.5 )\n",
    "    _next_page = check_page( a ) \n",
    "    while _next_page:\n",
    "        a = requests.get( _next_page )\n",
    "        data += a.json()[\"channels\"]\n",
    "        _next_page = check_page( a ) \n",
    "    return data "
   ]
  },
  {
   "cell_type": "code",
   "execution_count": 5,
   "metadata": {},
   "outputs": [],
   "source": [
    "channels = get_all_channels() "
   ]
  },
  {
   "cell_type": "code",
   "execution_count": 6,
   "metadata": {},
   "outputs": [],
   "source": [
    "def print_json(data, name ):\n",
    "    with open(f'{name}.json', 'w', encoding='utf-8') as f:\n",
    "        json.dump(data, f, ensure_ascii=False, indent=4)"
   ]
  },
  {
   "cell_type": "code",
   "execution_count": null,
   "metadata": {},
   "outputs": [],
   "source": [
    "# Specify the path\n",
    "path = 'p2_songs'\n",
    "\n",
    "# Check if the folder exists\n",
    "if os.path.exists(path):\n",
    "    print(\"Folder exists\")\n",
    "else:\n",
    "    print(\"Folder does not exist\")\n",
    "    os.mkdir( path )"
   ]
  },
  {
   "cell_type": "code",
   "execution_count": 8,
   "metadata": {},
   "outputs": [],
   "source": [
    "print_json( channels, \"channels\" )"
   ]
  },
  {
   "cell_type": "code",
   "execution_count": null,
   "metadata": {},
   "outputs": [],
   "source": [
    "for channel in channels:\n",
    "    print( f\"{channel['id']} - {channel['name']}\" )\n",
    "    if channel['name'] == \"P3\":\n",
    "        c_id = channel['id']\n",
    "        break\n",
    "print( f'found id {c_id}'  )"
   ]
  },
  {
   "cell_type": "code",
   "execution_count": null,
   "metadata": {},
   "outputs": [],
   "source": [
    "url_songs_on_given_day.format(  c_id = c_id , date=  \"2024-04-01\" )"
   ]
  },
  {
   "cell_type": "code",
   "execution_count": 11,
   "metadata": {},
   "outputs": [],
   "source": [
    "def get_played_songs( channel , str_date ):\n",
    "    url = url_songs_on_given_day.format(  c_id = c_id , date=  str_date )\n",
    "    songs = requests.get( url_songs_on_given_day.format(  c_id = c_id , date=  str_date) )\n",
    "    return songs "
   ]
  },
  {
   "cell_type": "code",
   "execution_count": 12,
   "metadata": {},
   "outputs": [],
   "source": [
    "def next_p3_date():\n",
    "    folder_path = 'p3_songs'\n",
    "    files = os.listdir(folder_path)\n",
    "    dates = [datetime.datetime.strptime(f.split('.')[0], '%Y-%m-%d') for f in files]\n",
    "    latest_date = max(dates)\n",
    "    new_date = latest_date + datetime.timedelta(days=1)\n",
    "    date_str = new_date.strftime('%Y-%m-%d')\n",
    "    return date_str"
   ]
  },
  {
   "cell_type": "code",
   "execution_count": null,
   "metadata": {},
   "outputs": [],
   "source": [
    "next_p3_date()"
   ]
  },
  {
   "cell_type": "code",
   "execution_count": 14,
   "metadata": {},
   "outputs": [],
   "source": [
    "songs = get_played_songs( c_id , str_date=next_p3_date())"
   ]
  },
  {
   "cell_type": "code",
   "execution_count": 15,
   "metadata": {},
   "outputs": [],
   "source": [
    "if songs.status_code == 200:\n",
    "    print_json( \n",
    "        songs.json()[\"song\"]\n",
    "        , r\"p3_songs\\\\\" + next_p3_date()\n",
    "    )"
   ]
  },
  {
   "cell_type": "code",
   "execution_count": 16,
   "metadata": {},
   "outputs": [],
   "source": [
    "def get_a_p3_day():\n",
    "    songs = get_played_songs( c_id , str_date=next_p3_date())\n",
    "    if songs.status_code == 200:\n",
    "        print_json( \n",
    "            songs.json()[\"song\"]\n",
    "            , r\"p3_songs\\\\\" + next_p3_date()\n",
    "        )"
   ]
  },
  {
   "cell_type": "code",
   "execution_count": 56,
   "metadata": {},
   "outputs": [],
   "source": [
    "get_a_p3_day()"
   ]
  },
  {
   "cell_type": "code",
   "execution_count": 18,
   "metadata": {},
   "outputs": [],
   "source": [
    "def next_page( x ):\n",
    "    _next_call = check_page( x)\n",
    "    if _next_call:\n",
    "        _c = requests.get( _next_call )\n",
    "        print( _c )\n",
    "        return _c          "
   ]
  },
  {
   "cell_type": "code",
   "execution_count": 19,
   "metadata": {},
   "outputs": [],
   "source": [
    "import requests \n",
    "\n",
    "songs_by_day_on_p3 = 'https://api.sr.se/api/v2/playlists/getplaylistbychannelid?id=164&startdatetime=2024-09-01&size=1000&format=json'\n",
    "response = requests.get( songs_by_day_on_p3 )\n",
    "song_data = response.json()\n",
    "songs = song_data[\"song\"] \n",
    "played_artists = {}\n",
    "\n",
    "if not songs[0][\"artist\"] in played_artists:\n",
    "    played_artists[songs[0][\"artist\"]] = 1\n",
    "else:\n",
    "    played_artists[songs[0][\"artist\"]] += 1"
   ]
  },
  {
   "cell_type": "code",
   "execution_count": 20,
   "metadata": {},
   "outputs": [],
   "source": [
    "response = requests.get( songs_by_day_on_p3 )\n"
   ]
  },
  {
   "cell_type": "code",
   "execution_count": 21,
   "metadata": {},
   "outputs": [],
   "source": [
    "song_data = response.json()"
   ]
  },
  {
   "cell_type": "code",
   "execution_count": 22,
   "metadata": {},
   "outputs": [],
   "source": [
    "songs = song_data[\"song\"] "
   ]
  },
  {
   "cell_type": "code",
   "execution_count": 23,
   "metadata": {},
   "outputs": [],
   "source": [
    "played_artists = {}"
   ]
  },
  {
   "cell_type": "code",
   "execution_count": 24,
   "metadata": {},
   "outputs": [],
   "source": [
    "if not songs[0][\"artist\"] in played_artists:\n",
    "    played_artists[songs[0][\"artist\"]] = 1\n",
    "else:\n",
    "    played_artists[songs[0][\"artist\"]] += 1"
   ]
  },
  {
   "cell_type": "code",
   "execution_count": null,
   "metadata": {},
   "outputs": [],
   "source": [
    "played_artists"
   ]
  },
  {
   "cell_type": "code",
   "execution_count": 26,
   "metadata": {},
   "outputs": [],
   "source": [
    "played_artists = {}\n",
    "for song in song_data[\"song\"]:\n",
    "    curent_artits = song[\"artist\"]\n",
    "    if not curent_artits in played_artists:\n",
    "        played_artists[curent_artits] = 1\n",
    "    else:\n",
    "        played_artists[curent_artits] += 1"
   ]
  },
  {
   "cell_type": "code",
   "execution_count": 27,
   "metadata": {},
   "outputs": [],
   "source": [
    "response = requests.get( url_all_channels )"
   ]
  },
  {
   "cell_type": "code",
   "execution_count": null,
   "metadata": {},
   "outputs": [],
   "source": [
    "print( response )"
   ]
  },
  {
   "cell_type": "code",
   "execution_count": null,
   "metadata": {},
   "outputs": [],
   "source": [
    "str( response.content ).split(r\"\\n\") "
   ]
  },
  {
   "cell_type": "code",
   "execution_count": 30,
   "metadata": {},
   "outputs": [],
   "source": [
    "# url_all_channels += '?format=json'"
   ]
  },
  {
   "cell_type": "code",
   "execution_count": null,
   "metadata": {},
   "outputs": [],
   "source": [
    "url_all_channels"
   ]
  },
  {
   "cell_type": "code",
   "execution_count": 32,
   "metadata": {},
   "outputs": [],
   "source": [
    "response = requests.get( url_all_channels )"
   ]
  },
  {
   "cell_type": "code",
   "execution_count": null,
   "metadata": {},
   "outputs": [],
   "source": [
    "json_data = response.json()\n",
    "json_data"
   ]
  },
  {
   "cell_type": "code",
   "execution_count": null,
   "metadata": {},
   "outputs": [],
   "source": [
    "for key in json_data:\n",
    "    print( key )"
   ]
  },
  {
   "cell_type": "code",
   "execution_count": null,
   "metadata": {},
   "outputs": [],
   "source": [
    "json_data[\"channels\"]"
   ]
  },
  {
   "cell_type": "code",
   "execution_count": null,
   "metadata": {},
   "outputs": [],
   "source": [
    "for c in json_data[\"channels\"][0]:\n",
    "    print( c )"
   ]
  },
  {
   "cell_type": "code",
   "execution_count": 29,
   "metadata": {},
   "outputs": [],
   "source": [
    "music_call = \"http://api.sr.se/api/v2/playlists/getplaylistbychannelid?id=132&startdatetime=2024-09-02&format=json&size=50\""
   ]
  },
  {
   "cell_type": "code",
   "execution_count": 30,
   "metadata": {},
   "outputs": [],
   "source": [
    "response = requests.get( music_call )"
   ]
  },
  {
   "cell_type": "code",
   "execution_count": null,
   "metadata": {},
   "outputs": [],
   "source": [
    "print(  len( response.json()[\"song\"]  ) )\n",
    "for x in response.json()[\"song\"]:\n",
    "    print(x[\"artist\"])\n"
   ]
  }
 ],
 "metadata": {
  "kernelspec": {
   "display_name": ".env",
   "language": "python",
   "name": "python3"
  },
  "language_info": {
   "codemirror_mode": {
    "name": "ipython",
    "version": 3
   },
   "file_extension": ".py",
   "mimetype": "text/x-python",
   "name": "python",
   "nbconvert_exporter": "python",
   "pygments_lexer": "ipython3",
   "version": "3.11.9"
  }
 },
 "nbformat": 4,
 "nbformat_minor": 2
}
